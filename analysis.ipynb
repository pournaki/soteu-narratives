{
 "cells": [
  {
   "cell_type": "code",
   "execution_count": null,
   "id": "2788fb47",
   "metadata": {},
   "outputs": [],
   "source": [
    "import numpy as np\n",
    "import pandas as pd\n",
    "from src.query_helpers import *"
   ]
  },
  {
   "cell_type": "code",
   "execution_count": null,
   "id": "6b3c8a54",
   "metadata": {},
   "outputs": [],
   "source": [
    "## load data\n",
    "df = pd.read_csv(\"./results/soteu_narrativetable.csv\")\n",
    "\n",
    "## add speaker data\n",
    "df['speaker'] = df['event_id'].apply(parse_speaker)\n",
    "speakers = sorted(set(df['speaker']))"
   ]
  },
  {
   "cell_type": "code",
   "execution_count": null,
   "id": "17d53eae",
   "metadata": {},
   "outputs": [],
   "source": [
    "## replace [\"commission\",\"organization:commission\"] by \"European Commission\",\n",
    "##         [\"organization:european union\",\"organization:eu\"] by \"European Union\",\n",
    "##         [\"continent:europe\"] by \"Europe\"\n",
    "for arg in args:\n",
    "    df[arg] = df[arg].apply(custom_replace)"
   ]
  },
  {
   "cell_type": "code",
   "execution_count": null,
   "id": "da2da1d3",
   "metadata": {},
   "outputs": [],
   "source": [
    "## TABLE 1: main agents, patients and predicates\n",
    "argcounts = get_argcounts(df)\n",
    "print(argcounts[':ARG1'].most_common(20))"
   ]
  },
  {
   "cell_type": "code",
   "execution_count": null,
   "id": "52e9e59c",
   "metadata": {},
   "outputs": [],
   "source": [
    "## TABLE 2: tf-idf on ARG1 per speaker\n",
    "alist = []\n",
    "for speaker in speakers:\n",
    "    sdf = df[df['speaker'] == speaker].copy()\n",
    "    a = get_argdf(sdf,add_predicates=False,N_words=None)\n",
    "    a = a[[':ARG1',':ARG1_count']].set_index(':ARG1').rename(columns={':ARG1_count':speaker})\n",
    "    alist.append(a)\n",
    "countmatrix = pd.concat(alist,axis=1).fillna(0)\n",
    "countmatrix = countmatrix[2:]\n",
    "tfidfdf = compute_tfidf(countmatrix)\n",
    "print(tfidfdf[:20].to_markdown())"
   ]
  },
  {
   "cell_type": "code",
   "execution_count": null,
   "id": "24f5de98",
   "metadata": {},
   "outputs": [],
   "source": [
    "## TABLE 3: tf-idf on goal predicates per speaker\n",
    "goaldf = get_goaldf(df,actor = [\"we\",\"European Union\",\"Europe\",\"European Commission\"])\n",
    "glist = []\n",
    "for speaker in speakers:\n",
    "    glist.append(pd.DataFrame(goaldf[goaldf['speaker'] == speaker]['predicate_va'].value_counts()).rename(columns={'count':speaker}))\n",
    "countmatrix = pd.concat(glist,axis=1).fillna(0)\n",
    "tfidfdf = compute_tfidf(countmatrix)[:20]\n",
    "print(tfidfdf[:10].to_markdown())"
   ]
  },
  {
   "cell_type": "code",
   "execution_count": null,
   "id": "4ea085d9",
   "metadata": {},
   "outputs": [],
   "source": [
    "## TABLE 4: goals related to a given verb category\n",
    "goal_predicate = \"MOUNT_ASSEMBLE_PRODUCE\"\n",
    "gdf = goaldf[goaldf['predicate_va']==goal_predicate][goaldf.columns[:-1]].sort_values(by='sentence_id')\n",
    "gdf['year'] = gdf['sentence_id'].str[:2].map(tid2year)\n",
    "print(gdf[['sentence_id','predicate','arg1','argx1','speaker','year']].to_markdown(index=False))"
   ]
  },
  {
   "cell_type": "code",
   "execution_count": null,
   "id": "f8e749d0",
   "metadata": {},
   "outputs": [],
   "source": [
    "## exploration of the narrative table\n",
    "cols = ['parent_predicate_pb',':ARG0','predicate_pb',':ARG1',':ARG1_adj','speaker']\n",
    "speaker = \"barroso\"\n",
    "arg1 = \"market\"\n",
    "sdf = df[(df['speaker'] == speaker) & (df[':ARG1'] == arg1)]\n",
    "sdf[cols]"
   ]
  },
  {
   "cell_type": "code",
   "execution_count": null,
   "id": "717657c0",
   "metadata": {},
   "outputs": [],
   "source": [
    "arg0 = \"we\"\n",
    "arg1 = \"solidarity\"\n",
    "sdf = df[(df[':ARG0'] == arg0) & (df[':ARG1'] == arg1)]\n",
    "sdf[cols]"
   ]
  },
  {
   "cell_type": "code",
   "execution_count": null,
   "id": "09855fce",
   "metadata": {},
   "outputs": [],
   "source": [
    "## graph analysis\n",
    "df['verb_annotation'] = df.apply(lambda row: annotate_row(row), axis=1)\n",
    "edgelist,G = build_graph(df)"
   ]
  },
  {
   "cell_type": "code",
   "execution_count": null,
   "id": "0d91c5e4",
   "metadata": {},
   "outputs": [],
   "source": [
    "## filter edges by weight and score\n",
    "ego = get_ego_network(G,\"we\")\n",
    "etd = []\n",
    "for e in ego.es:\n",
    "    if e['weight'] < 2 or e['score'] >= 0: ## change to weight < 3 and score <= 0 for positive edges\n",
    "        etd.append(e)\n",
    "ego.delete_edges(etd)\n",
    "ego = ego.components(mode='weak').giant()\n",
    "\n",
    "## plot\n",
    "plot_egonet(ego)"
   ]
  },
  {
   "cell_type": "code",
   "execution_count": null,
   "id": "3ffeaa24",
   "metadata": {},
   "outputs": [],
   "source": []
  }
 ],
 "metadata": {
  "kernelspec": {
   "display_name": "narrative-amr",
   "language": "python",
   "name": "narrative-amr"
  },
  "language_info": {
   "codemirror_mode": {
    "name": "ipython",
    "version": 3
   },
   "file_extension": ".py",
   "mimetype": "text/x-python",
   "name": "python",
   "nbconvert_exporter": "python",
   "pygments_lexer": "ipython3",
   "version": "3.12.7"
  }
 },
 "nbformat": 4,
 "nbformat_minor": 5
}
